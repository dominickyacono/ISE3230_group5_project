{
 "cells": [
  {
   "cell_type": "code",
   "execution_count": 19,
   "id": "5caf045e",
   "metadata": {},
   "outputs": [],
   "source": [
    "import gurobipy as gp\n",
    "from gurobipy import GRB\n",
    "import pandas as pd\n",
    "\n",
    "costsheet = pd.read_csv('costs.csv') \n",
    "costsheet['Mendenhall'] = pd.to_numeric(costsheet['Mendenhall'], errors='coerce') #csv having some entries in these columns as strings, fix before submission\n",
    "costsheet['Caldwell'] = pd.to_numeric(costsheet['Caldwell'], errors='coerce')\n",
    "costsheet['Pomerene'] = pd.to_numeric(costsheet['Pomerene'], errors='coerce')\n",
    "costsheet['friend1'] = pd.to_numeric(costsheet['friend1'], errors='coerce')\n",
    "costsheet['friend2'] = pd.to_numeric(costsheet['friend2'], errors='coerce')\n",
    "costsheet['friend3'] = pd.to_numeric(costsheet['friend3'], errors='coerce')"
   ]
  },
  {
   "cell_type": "code",
   "execution_count": 23,
   "id": "c1f5812e",
   "metadata": {},
   "outputs": [
    {
     "name": "stdout",
     "output_type": "stream",
     "text": [
      "The recommended choice is 113 E Frambes Ave with a total sum of monthly costs and opportunity costs of 733.32\n",
      "With this property, Jake will schedule his class at Mendenhall first.\n",
      "Jake will not purchase a LimePrime subscription.\n"
     ]
    }
   ],
   "source": [
    "## HANGOUTS PER MONTH * OPPORTUNITY COST * PROBABILITY ; FOR EACH FRIEND\n",
    "def friendcost(id):\n",
    "    return 6*11*(0.025*(costsheet['friend1'][id]/.1)) + 6*18*(0.025*(costsheet['friend2'][id]/.1)) + 6*48*(0.025*(costsheet['friend3'][id]/.1))\n",
    "\n",
    "## NUMBER OF CLASSES * TUITION PER CLASS * PROBABILITY OF MISSING CLASS, DEPENDENT ON BUYING A LIMEPRIME SUBSCRIPTION\n",
    "def class_cost(id):\n",
    "    return 12*51.4*.05*(closest_class(id)/.25) * (costsheet['limeprime'][id] / 3)\n",
    "\n",
    "## which first class option is closest; for lime scooter purposes \n",
    "def closest_class(id):\n",
    "    return costsheet['mindist'][id]\n",
    "    \n",
    "## BASE COST OF EACH RENTAL\n",
    "def basecost(id):\n",
    "    cost = costsheet['Rent'][id] #rent\n",
    "    cost = cost + 25 * costsheet['Water'][id] + 50 * costsheet['Electric'][id] + 30 * costsheet['Gas'][id]\n",
    "    cost = cost + 20 * costsheet['Internet'][id] + 24 * costsheet['Laundry'][id] # utilities\n",
    "    cost = cost + 13.68 * costsheet['Emergencies'][id] + 6.84 * costsheet['Generals'][id] #landlords\n",
    "    cost = cost + 13.68 * costsheet['Safety'][id] + 4.16 * costsheet['Sidewalks'][id] + 3.9 * costsheet['Clean'][id]\n",
    "    cost = cost + costsheet['Off-Street'][id] * costsheet['Fee'][id] #parking\n",
    "\n",
    "    return float(cost)\n",
    "\n",
    "def limecost(id):\n",
    "    return costsheet['limeprime'][id] * (6 + 24 * 0.3 * closest_class(id))\n",
    "\n",
    "m = gp.Model(\"grpprj\")\n",
    "m.Params.LogToConsole = 0\n",
    "\n",
    "## Initialize 12 house choices\n",
    "x = m.addVars(12, vtype=GRB.BINARY, name= \"x\")\n",
    "\n",
    "#cost of rent, utilities, landlord costs, + friend opportunity costs, + class missing opportunity costs, + limeprime costs\n",
    "m.setObjective(\n",
    "    x[0] * (basecost(1) + friendcost(1) + class_cost(1) + limecost(1)) + \n",
    "    x[1] * (basecost(2) + friendcost(2) + class_cost(2) + limecost(2)) + \n",
    "    x[2] * (basecost(3) + friendcost(3) + class_cost(3) + limecost(3)) + \n",
    "    x[3] * (basecost(4) + friendcost(4) + class_cost(4) + limecost(4)) + \n",
    "    x[4] * (basecost(5) + friendcost(5) + class_cost(5) + limecost(5)) + \n",
    "    x[5] * (basecost(6) + friendcost(6) + class_cost(6) + limecost(6)) + \n",
    "    x[6] * (basecost(7) + friendcost(7) + class_cost(7) + limecost(7)) + \n",
    "    x[7] * (basecost(8) + friendcost(8) + class_cost(8) + limecost(8)) + \n",
    "    x[8] * (basecost(9) + friendcost(9) + class_cost(9) + limecost(9)) + \n",
    "    x[9] * (basecost(10) + friendcost(10) + class_cost(10) + limecost(10)) + \n",
    "    x[10] * (basecost(11) + friendcost(11) + class_cost(11) + limecost(11)) + \n",
    "    x[11] * (basecost(12) + friendcost(12) + class_cost(12) + limecost(12)),\n",
    "GRB.MINIMIZE)\n",
    "\n",
    "## Ensure sum of apartment decisions is equal to one\n",
    "m.addConstr(x[0] + x[1] + x[2] + x[3] + x[4] + x[5] + x[6] + x[7] + x[8] + x[9] + x[10] + x[11] == 1)\n",
    "\n",
    "m.optimize()\n",
    "\n",
    "num = 6\n",
    "for i, var in enumerate(m.getVars()):\n",
    "    if var.x == 1:\n",
    "        num = 6\n",
    "\n",
    "print('The recommended choice is', costsheet['address'][num], 'with a total sum of monthly costs and opportunity costs of', round(m.objVal,2))\n",
    "print('With this property, Jake will schedule his class at', costsheet.columns[costsheet.iloc[num] == closest_class(num)].tolist()[0], 'first.' )\n",
    "if costsheet['limeprime'][num] == 1:\n",
    "    print('Jake will purchase a LimePrime subscription.')\n",
    "else:\n",
    "    print('Jake will not purchase a LimePrime subscription.')\n"
   ]
  },
  {
   "cell_type": "code",
   "execution_count": 24,
   "id": "34e239fc",
   "metadata": {},
   "outputs": [
    {
     "name": "stdout",
     "output_type": "stream",
     "text": [
      "1040.5695294226\n",
      "894.0559051708\n",
      "1194.8135294226001\n",
      "1058.4495294225999\n",
      "923.4255555513798\n",
      "1280.2559051708\n",
      "733.3159999908798\n",
      "926.0695294225999\n",
      "1073.50422895052\n",
      "1257.14822895052\n",
      "989.0362289505201\n",
      "876.7313507307399\n",
      "obj_func =  733.3159999908798\n",
      "x[0] = 0\n",
      "x[1] = 0\n",
      "x[2] = 0\n",
      "x[3] = 0\n",
      "x[4] = 0\n",
      "x[5] = 0\n",
      "x[6] = 1\n",
      "x[7] = 0\n",
      "x[8] = 0\n",
      "x[9] = 0\n",
      "x[10] = 0\n",
      "x[11] = 0\n"
     ]
    }
   ],
   "source": [
    "#costs for each property\n",
    "for i in [1,2,3,4,5,6,7,8,9,10,11,12]:\n",
    "    print(basecost(i) + friendcost(i) + class_cost(i) + limecost(i))\n",
    "\n",
    "#cost for optimal property\n",
    "print(\"obj_func = \", m.objVal)\n",
    "for v in m.getVars():\n",
    "    print('%s = %g' % (v.varName, v.x))"
   ]
  }
 ],
 "metadata": {
  "kernelspec": {
   "display_name": "Python 3",
   "language": "python",
   "name": "python3"
  },
  "language_info": {
   "codemirror_mode": {
    "name": "ipython",
    "version": 3
   },
   "file_extension": ".py",
   "mimetype": "text/x-python",
   "name": "python",
   "nbconvert_exporter": "python",
   "pygments_lexer": "ipython3",
   "version": "3.12.5"
  }
 },
 "nbformat": 4,
 "nbformat_minor": 5
}
